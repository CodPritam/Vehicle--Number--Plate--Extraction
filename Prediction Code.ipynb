{
 "cells": [
  {
   "cell_type": "code",
   "execution_count": 1,
   "metadata": {},
   "outputs": [],
   "source": [
    "import cv2"
   ]
  },
  {
   "cell_type": "code",
   "execution_count": 2,
   "metadata": {},
   "outputs": [],
   "source": [
    "import binarize as binarize"
   ]
  },
  {
   "cell_type": "code",
   "execution_count": 3,
   "metadata": {},
   "outputs": [],
   "source": [
    "from letters import Letter"
   ]
  },
  {
   "cell_type": "code",
   "execution_count": 4,
   "metadata": {},
   "outputs": [],
   "source": [
    "def add_pad(img, pad = 1, color = (0, 0, 0)):\n",
    "    width, height = img.size\n",
    "    new_width = width + pad + pad\n",
    "    new_height = height + pad + pad\n",
    "    result = Image.new(img.mode, (new_width, new_height), color)\n",
    "    result.paste(img, (pad, pad))\n",
    "    return np.asarray(result)"
   ]
  },
  {
   "cell_type": "code",
   "execution_count": 5,
   "metadata": {},
   "outputs": [],
   "source": [
    "def get_blobs(orig):\n",
    "    im = orig.copy()\n",
    "    if(len(orig.shape) == 3):\n",
    "        im = cv2.cvtColor(orig,cv2.COLOR_BGR2GRAY)\n",
    "    im = binarize.binarize(im)\n",
    "    letters = all_letters(im)\n",
    "    return letters\n",
    "def all_letters(im):\n",
    "    max_label, labels, stats, centroids = \\\n",
    "        cv2.connectedComponentsWithStats(im ^ 255, connectivity=4)\n",
    "    return [Letter(label, labels, stats[label], centroids[label]) \\\n",
    "            for label in range(1, max_label)]"
   ]
  },
  {
   "cell_type": "code",
   "execution_count": 7,
   "metadata": {},
   "outputs": [],
   "source": [
    "import joblib"
   ]
  },
  {
   "cell_type": "code",
   "execution_count": 8,
   "metadata": {},
   "outputs": [],
   "source": [
    "model = joblib.load(\"minst_model.pkl\")"
   ]
  },
  {
   "cell_type": "code",
   "execution_count": 9,
   "metadata": {},
   "outputs": [],
   "source": [
    "sc = model.scaler"
   ]
  },
  {
   "cell_type": "code",
   "execution_count": 10,
   "metadata": {},
   "outputs": [],
   "source": [
    "import numpy as np"
   ]
  },
  {
   "cell_type": "code",
   "execution_count": 11,
   "metadata": {},
   "outputs": [],
   "source": [
    "from PIL import Image"
   ]
  },
  {
   "cell_type": "code",
   "execution_count": 27,
   "metadata": {
    "scrolled": false
   },
   "outputs": [],
   "source": [
    "def extract_number_plate(image):\n",
    "#     display(image)\n",
    "    each_characters = get_blobs(image)\n",
    "    vehicle_number = \"\"\n",
    "    for idx,each_letter in enumerate(each_characters):\n",
    "        x1,y1,x2,y2 = each_letter.get_coord()\n",
    "        height = y2 - y1\n",
    "        width = x2 - x1\n",
    "        if height/width > 0.5:\n",
    "#             image = cv2.rectangle(image, (x1,y1), (x2,y2), (255,0,0), 2)\n",
    "            crop = image[y1:y2, x1:x2]\n",
    "            crop = add_pad(Image.fromarray(crop), pad = 8, color = (255, 255, 255))\n",
    "            crop = cv2.cvtColor(crop, cv2.COLOR_BGR2GRAY)\n",
    "            ret, crop = cv2.threshold(crop, 128, 255, cv2.THRESH_BINARY)\n",
    "            crop = cv2.resize(crop,(28,28))\n",
    "#             display(Image.fromarray(crop))\n",
    "            #cv2.imwrite(f\"crop_{idx}.png\", crop)\n",
    "            crop = crop.flatten()\n",
    "            crop = np.array([crop])\n",
    "\n",
    "            crop = sc.transform(crop)\n",
    "\n",
    "            each_char = model.predict(crop)[0]\n",
    "            vehicle_number += each_char\n",
    "    cv2.imwrite(\"text_r.jpg\", image)\n",
    "    return vehicle_number"
   ]
  },
  {
   "cell_type": "code",
   "execution_count": 28,
   "metadata": {},
   "outputs": [
    {
     "data": {
      "text/plain": [
       "'MH20JK5241'"
      ]
     },
     "execution_count": 28,
     "metadata": {},
     "output_type": "execute_result"
    }
   ],
   "source": [
    "image = cv2.imread(\"test_4.png\")\n",
    "extract_number_plate(image)"
   ]
  },
  {
   "cell_type": "code",
   "execution_count": null,
   "metadata": {},
   "outputs": [],
   "source": []
  }
 ],
 "metadata": {
  "kernelspec": {
   "display_name": "Python 3",
   "language": "python",
   "name": "python3"
  },
  "language_info": {
   "codemirror_mode": {
    "name": "ipython",
    "version": 3
   },
   "file_extension": ".py",
   "mimetype": "text/x-python",
   "name": "python",
   "nbconvert_exporter": "python",
   "pygments_lexer": "ipython3",
   "version": "3.7.4"
  }
 },
 "nbformat": 4,
 "nbformat_minor": 4
}
